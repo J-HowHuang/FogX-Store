{
 "cells": [
  {
   "cell_type": "code",
   "execution_count": 4,
   "id": "779bee76-6317-4dd7-b897-cb18e7b2ee99",
   "metadata": {},
   "outputs": [],
   "source": [
    "import requests\n",
    "import json\n",
    "import pyarrow as pa\n",
    "import base64"
   ]
  },
  {
   "cell_type": "code",
   "execution_count": 116,
   "id": "17b778d4-dfab-4926-9eeb-920cb68b5909",
   "metadata": {},
   "outputs": [
    {
     "name": "stdout",
     "output_type": "stream",
     "text": [
      "500\n",
      "{'message': 'Dataset already exists: /Users/haoweichung/Development/CMU/Spring2024/FogROS2-RTX/FogX-Store/_datasets/dataset_db/ucsd_pick_and_place_dataset_converted_externally_to_rlds.lance, /Users/runner/work/lance/lance/rust/lance/src/dataset.rs:484:27'}\n"
     ]
    }
   ],
   "source": [
    "\n",
    "\n",
    "# Define the API URL\n",
    "url = \"http://127.0.0.1:11635/create\"\n",
    "schema = pa.schema([\n",
    "    pa.field(\"disclaimer\", pa.string()),\n",
    "    pa.field(\"file_path\", pa.string()),\n",
    "    pa.field(\"n_transitions\", pa.int32()),\n",
    "    pa.field(\"success\", pa.bool_()),  # Corrected boolean field\n",
    "    pa.field(\"success_labeled_by\", pa.string()),\n",
    "    pa.field(\"episode_path\", pa.string()),\n",
    "    pa.field(\"vector\", pa.list_(pa.float32(), 768)), # Need to specify name as \"vector\", dim must be defined\n",
    "    pa.field(\"language_instruction\", pa.string())],\n",
    "    metadata={\n",
    "        \"language_instruction\" : \"nomic-ai/nomic-embed-text-v1.5\",\n",
    "    }\n",
    ")\n",
    "\n",
    "serialized_schema = schema.serialize().to_pybytes()\n",
    "encoded_schema = base64.b64encode(serialized_schema).decode('utf-8')\n",
    "\n",
    "# Define the payload\n",
    "data = {\n",
    "    \"dataset\": \"ucsd_pick_and_place_dataset_converted_externally_to_rlds\", # create a dataset table with this name\n",
    "    \"uri\": \"/Users/haoweichung/Development/CMU/Spring2024/FogROS2-RTX/FogX-Store/_datasets/dataset_db\", # load lancedb from this uri\n",
    "    \"schema\" : encoded_schema # user defined data schema\n",
    "}\n",
    "\n",
    "# Send the POST request\n",
    "response = requests.post(url, json=data)\n",
    "\n",
    "# Print the response\n",
    "print(response.status_code)\n",
    "print(response.json())\n"
   ]
  },
  {
   "cell_type": "code",
   "execution_count": 117,
   "id": "1436f857-ed43-4b0e-b284-b62afb50df0f",
   "metadata": {},
   "outputs": [
    {
     "data": {
      "text/plain": [
       "disclaimer: string\n",
       "file_path: string\n",
       "n_transitions: int32\n",
       "success: bool\n",
       "success_labeled_by: string\n",
       "episode_path: string\n",
       "vector: fixed_size_list<item: float>[768]\n",
       "  child 0, item: float\n",
       "language_instruction: string\n",
       "-- schema metadata --\n",
       "language_instruction: 'nomic-ai/nomic-embed-text-v1.5'"
      ]
     },
     "execution_count": 117,
     "metadata": {},
     "output_type": "execute_result"
    }
   ],
   "source": [
    "schema"
   ]
  },
  {
   "cell_type": "code",
   "execution_count": 118,
   "id": "c6b58aa7-4f14-4ec5-94e9-b55bc7db0ee5",
   "metadata": {},
   "outputs": [
    {
     "name": "stdout",
     "output_type": "stream",
     "text": [
      "200\n",
      "{'message': 'Dataset written successfully'}\n"
     ]
    }
   ],
   "source": [
    "import requests\n",
    "\n",
    "# Define the API URL\n",
    "url = \"http://127.0.0.1:11635/write\"\n",
    "\n",
    "# Define the payload\n",
    "data = {\n",
    "    \"ds_path\": \"gs://gresearch/robotics/ucsd_pick_and_place_dataset_converted_externally_to_rlds/0.1.0\", # local or remote rlds dataset location\n",
    "    \"dataset\" : \"ucsd_pick_and_place_dataset_converted_externally_to_rlds\", # The dataset to append new data\n",
    "    \"uri\": \"/Users/haoweichung/Development/CMU/Spring2024/FogROS2-RTX/FogX-Store/_datasets/dataset_db\" # lancedb uri\n",
    "}\n",
    "\n",
    "# Send the POST request\n",
    "response = requests.post(url, json=data)\n",
    "\n",
    "# Print the response\n",
    "print(response.status_code)\n",
    "print(response.json())\n"
   ]
  },
  {
   "cell_type": "markdown",
   "id": "76819c54-ec02-472e-a795-344626de4cd5",
   "metadata": {},
   "source": [
    "# Let's read some data from the database"
   ]
  },
  {
   "cell_type": "code",
   "execution_count": 114,
   "id": "d2d04c29-f992-4ca1-aa9a-441ee14303d4",
   "metadata": {},
   "outputs": [],
   "source": [
    "import lancedb\n",
    "uri = \"/Users/haoweichung/Development/CMU/Spring2024/FogROS2-RTX/FogX-Store/_datasets/dataset_db\"\n",
    "db = lancedb.connect(uri)\n",
    "tbl = db.open_table(\"ucsd_pick_and_place_dataset_converted_externally_to_rlds\")"
   ]
  },
  {
   "cell_type": "code",
   "execution_count": 119,
   "id": "36201831-77c2-4aec-a133-11f80f609355",
   "metadata": {},
   "outputs": [
    {
     "data": {
      "text/plain": [
       "pyarrow.Table\n",
       "disclaimer: string\n",
       "file_path: string\n",
       "n_transitions: int32\n",
       "success: bool\n",
       "success_labeled_by: string\n",
       "episode_path: string\n",
       "vector: fixed_size_list<item: float>[768]\n",
       "  child 0, item: float\n",
       "language_instruction: string\n",
       "----\n",
       "disclaimer: [[\"b'reward is noisy for this dataset partition'\"],[\"b'none'\"],...,[\"b'reward is noisy for this dataset partition'\"],[\"b'reward is noisy for this dataset partition'\"]]\n",
       "file_path: [[\"b'data/train/tabletop_uncurated/209.p'\"],[\"b'data/train/tabletop_base/515.p'\"],...,[\"b'data/train/tabletop_uncurated/333.p'\"],[\"b'data/train/tabletop_uncurated/49.p'\"]]\n",
       "n_transitions: [[50],[50],...,[50],[50]]\n",
       "success: [[true],[false],...,[false],[true]]\n",
       "success_labeled_by: [[\"b'classifier'\"],[\"b'classifier'\"],...,[\"b'classifier'\"],[\"b'classifier'\"]]\n",
       "episode_path: [[\"./../../_datasets/parquet/ucsd_pick_and_place_dataset_converted_externally_to_rlds/50b05ce3-2793-44cb-a0a0-fcf78ed371b2/steps.parquet\"],[\"./../../_datasets/parquet/ucsd_pick_and_place_dataset_converted_externally_to_rlds/b0bf5ef2-5914-419e-9dac-109bb1208152/steps.parquet\"],...,[\"./../../_datasets/parquet/ucsd_pick_and_place_dataset_converted_externally_to_rlds/947f934b-8466-4808-9e6b-3d34c219220b/steps.parquet\"],[\"./../../_datasets/parquet/ucsd_pick_and_place_dataset_converted_externally_to_rlds/785a4c00-2dfd-46d8-8373-30ae931f1f03/steps.parquet\"]]\n",
       "vector: [[[0.33544955,1.5946455,-3.4557166,-1.0478396,0.3108869,...,0.3306186,-0.08297139,-0.348865,-0.8183838,0.22424173]],[[0.33544955,1.5946455,-3.4557166,-1.0478396,0.3108869,...,0.3306186,-0.08297139,-0.348865,-0.8183838,0.22424173]],...,[[0.33544955,1.5946455,-3.4557166,-1.0478396,0.3108869,...,0.3306186,-0.08297139,-0.348865,-0.8183838,0.22424173]],[[0.33544955,1.5946455,-3.4557166,-1.0478396,0.3108869,...,0.3306186,-0.08297139,-0.348865,-0.8183838,0.22424173]]]\n",
       "language_instruction: [[\"pick up the red object from the table\"],[\"pick up the red object from the table\"],...,[\"pick up the red object from the table\"],[\"pick up the red object from the table\"]]"
      ]
     },
     "execution_count": 119,
     "metadata": {},
     "output_type": "execute_result"
    }
   ],
   "source": [
    "tbl.to_arrow()"
   ]
  },
  {
   "cell_type": "markdown",
   "id": "550cfcfb-7c80-47c3-995b-9e124cd7e280",
   "metadata": {},
   "source": [
    "# Select all the data with success is true"
   ]
  },
  {
   "cell_type": "code",
   "execution_count": 120,
   "id": "11fcd4a8-261f-4340-97a1-bf9df7d7554a",
   "metadata": {},
   "outputs": [
    {
     "data": {
      "application/vnd.jupyter.widget-view+json": {
       "model_id": "38d589a5aa9a4b87b834b4026c394a8b",
       "version_major": 2,
       "version_minor": 0
      },
      "text/plain": [
       "Fetching 5 files:   0%|          | 0/5 [00:00<?, ?it/s]"
      ]
     },
     "metadata": {},
     "output_type": "display_data"
    }
   ],
   "source": [
    "from fastembed import TextEmbedding\n",
    "\n",
    "\n",
    "model = TextEmbedding(model_name=\"nomic-ai/nomic-embed-text-v1.5\")\n",
    "query = list(model.embed(\"pick up the red object from the table\"))[0]"
   ]
  },
  {
   "cell_type": "code",
   "execution_count": 121,
   "id": "218d56f5-3f18-4186-b0dc-14c9a8403c63",
   "metadata": {},
   "outputs": [],
   "source": [
    "result = (\n",
    "    tbl.search(query)\n",
    "    .limit(10)\n",
    "    .where(\"success = true\", prefilter=True)\n",
    "    .to_arrow()\n",
    ")"
   ]
  },
  {
   "cell_type": "code",
   "execution_count": 122,
   "id": "12fd3d30-678f-4152-ad1f-7ca3c86257d5",
   "metadata": {},
   "outputs": [
    {
     "data": {
      "text/plain": [
       "pyarrow.Table\n",
       "disclaimer: string\n",
       "file_path: string\n",
       "n_transitions: int32\n",
       "success: bool\n",
       "success_labeled_by: string\n",
       "episode_path: string\n",
       "vector: fixed_size_list<item: float>[768]\n",
       "  child 0, item: float\n",
       "language_instruction: string\n",
       "_distance: float\n",
       "----\n",
       "disclaimer: [[\"b'none'\",\"b'reward is noisy for this dataset partition'\",\"b'reward is noisy for this dataset partition'\",\"b'reward is noisy for this dataset partition'\",\"b'reward is noisy for this dataset partition'\",\"b'none'\",\"b'reward is noisy for this dataset partition'\",\"b'reward is noisy for this dataset partition'\",\"b'reward is noisy for this dataset partition'\",\"b'reward is noisy for this dataset partition'\"]]\n",
       "file_path: [[\"b'data/train/tabletop_base/157.p'\",\"b'data/train/tabletop_uncurated/494.p'\",\"b'data/train/tabletop_uncurated/533.p'\",\"b'data/train/tabletop_uncurated/76.p'\",\"b'data/train/tabletop_uncurated/166.p'\",\"b'data/train/tabletop_base/585.p'\",\"b'data/train/tabletop_uncurated/442.p'\",\"b'data/train/tabletop_uncurated/463.p'\",\"b'data/train/tabletop_uncurated/113.p'\",\"b'data/train/tabletop_uncurated/209.p'\"]]\n",
       "n_transitions: [[50,50,50,50,50,50,50,50,50,50]]\n",
       "success: [[true,true,true,true,true,true,true,true,true,true]]\n",
       "success_labeled_by: [[\"b'classifier'\",\"b'classifier'\",\"b'classifier'\",\"b'classifier'\",\"b'classifier'\",\"b'classifier'\",\"b'classifier'\",\"b'classifier'\",\"b'classifier'\",\"b'classifier'\"]]\n",
       "episode_path: [[\"./../../_datasets/parquet/ucsd_pick_and_place_dataset_converted_externally_to_rlds/4ebb6e17-447f-4949-9c75-852845bd7b89/steps.parquet\",\"./../../_datasets/parquet/ucsd_pick_and_place_dataset_converted_externally_to_rlds/c8370c80-2848-4462-afff-c712283465cb/steps.parquet\",\"./../../_datasets/parquet/ucsd_pick_and_place_dataset_converted_externally_to_rlds/1b8156fb-c2e0-4d05-b09d-101fc28ecdb1/steps.parquet\",\"./../../_datasets/parquet/ucsd_pick_and_place_dataset_converted_externally_to_rlds/ba6da914-506a-40d7-8209-0c9ec7e7a8e7/steps.parquet\",\"./../../_datasets/parquet/ucsd_pick_and_place_dataset_converted_externally_to_rlds/55252ba5-0065-456d-a1d9-5085128919ba/steps.parquet\",\"./../../_datasets/parquet/ucsd_pick_and_place_dataset_converted_externally_to_rlds/c73dd494-d3a3-4f3c-a87d-81e95e43364f/steps.parquet\",\"./../../_datasets/parquet/ucsd_pick_and_place_dataset_converted_externally_to_rlds/b1ee045d-96ae-4a7c-8dac-e8491fdf9fc6/steps.parquet\",\"./../../_datasets/parquet/ucsd_pick_and_place_dataset_converted_externally_to_rlds/fc71a918-e0ed-4dd1-b5f9-965cd5170554/steps.parquet\",\"./../../_datasets/parquet/ucsd_pick_and_place_dataset_converted_externally_to_rlds/62572855-846e-429c-90ee-f482a107d4c7/steps.parquet\",\"./../../_datasets/parquet/ucsd_pick_and_place_dataset_converted_externally_to_rlds/50b05ce3-2793-44cb-a0a0-fcf78ed371b2/steps.parquet\"]]\n",
       "vector: [[[0.33544955,1.5946455,-3.4557166,-1.0478396,0.3108869,...,0.3306186,-0.08297139,-0.348865,-0.8183838,0.22424173],[0.33544955,1.5946455,-3.4557166,-1.0478396,0.3108869,...,0.3306186,-0.08297139,-0.348865,-0.8183838,0.22424173],...,[0.33544955,1.5946455,-3.4557166,-1.0478396,0.3108869,...,0.3306186,-0.08297139,-0.348865,-0.8183838,0.22424173],[0.33544955,1.5946455,-3.4557166,-1.0478396,0.3108869,...,0.3306186,-0.08297139,-0.348865,-0.8183838,0.22424173]]]\n",
       "language_instruction: [[\"pick up the red object from the table\",\"pick up the red object from the table\",\"pick up the red object from the table\",\"pick up the red object from the table\",\"pick up the red object from the table\",\"pick up the red object from the table\",\"pick up the red object from the table\",\"pick up the red object from the table\",\"pick up the red object from the table\",\"pick up the red object from the table\"]]\n",
       "_distance: [[0,0,0,0,0,0,0,0,0,0]]"
      ]
     },
     "execution_count": 122,
     "metadata": {},
     "output_type": "execute_result"
    }
   ],
   "source": [
    "result"
   ]
  },
  {
   "cell_type": "code",
   "execution_count": 97,
   "id": "ee89835b-38c6-4458-b438-eef1a6b2d687",
   "metadata": {},
   "outputs": [],
   "source": [
    "import pyarrow.parquet as pq\n",
    "\n",
    "\n",
    "path = \"/Users/haoweichung/Development/CMU/Spring2024/FogROS2-RTX/FogX-Store/_datasets/parquet/ucsd_pick_and_place_dataset_converted_externally_to_rlds/2e6a9d51-1eb7-4e2d-a6ba-54a771e8c2f1/steps.parquet\"\n",
    "\n",
    "table = pq.read_table(path)"
   ]
  },
  {
   "cell_type": "code",
   "execution_count": 98,
   "id": "a9c466fa-d8ad-46c7-bc57-d2a1f86653dc",
   "metadata": {},
   "outputs": [
    {
     "data": {
      "text/plain": [
       "action: list<element: float>\n",
       "  child 0, element: float\n",
       "discount: float\n",
       "is_first: bool\n",
       "is_last: bool\n",
       "is_terminal: bool\n",
       "language_embedding: list<element: float>\n",
       "  child 0, element: float\n",
       "language_instruction: string\n",
       "image: binary\n",
       "reward: float"
      ]
     },
     "execution_count": 98,
     "metadata": {},
     "output_type": "execute_result"
    }
   ],
   "source": [
    "table.schema"
   ]
  }
 ],
 "metadata": {
  "kernelspec": {
   "display_name": "Python 3 (ipykernel)",
   "language": "python",
   "name": "python3"
  },
  "language_info": {
   "codemirror_mode": {
    "name": "ipython",
    "version": 3
   },
   "file_extension": ".py",
   "mimetype": "text/x-python",
   "name": "python",
   "nbconvert_exporter": "python",
   "pygments_lexer": "ipython3",
   "version": "3.11.5"
  }
 },
 "nbformat": 4,
 "nbformat_minor": 5
}
