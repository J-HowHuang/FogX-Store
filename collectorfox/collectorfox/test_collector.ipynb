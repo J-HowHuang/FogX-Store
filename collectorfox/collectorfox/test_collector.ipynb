{
 "cells": [
  {
   "cell_type": "code",
   "execution_count": 1,
   "id": "779bee76-6317-4dd7-b897-cb18e7b2ee99",
   "metadata": {},
   "outputs": [],
   "source": [
    "import requests\n",
    "import json\n",
    "import pyarrow as pa"
   ]
  },
  {
   "cell_type": "code",
   "execution_count": 4,
   "id": "17b778d4-dfab-4926-9eeb-920cb68b5909",
   "metadata": {},
   "outputs": [
    {
     "name": "stdout",
     "output_type": "stream",
     "text": [
      "500\n",
      "{'message': \"HTTPConnectionPool(host='localhost', port=11632): Max retries exceeded with url: /dataset/ucsd_pick_and_place_dataset_converted_externally_to_rlds (Caused by NewConnectionError('<urllib3.connection.HTTPConnection object at 0x1621e8d10>: Failed to establish a new connection: [Errno 61] Connection refused'))\"}\n"
     ]
    }
   ],
   "source": [
    "\n",
    "\n",
    "# Define the API URL\n",
    "url = \"http://127.0.0.1:5000/create\"\n",
    "schema = pa.schema([\n",
    "    pa.field(\"disclaimer\", pa.string()),\n",
    "    pa.field(\"file_path\", pa.string()),\n",
    "    pa.field(\"n_transitions\", pa.int32()),\n",
    "    pa.field(\"success\", pa.bool_()),  # Corrected boolean field\n",
    "    pa.field(\"success_labeled_by\", pa.string())\n",
    "])\n",
    "\n",
    "\n",
    "fields_dict = {\n",
    "    \"fields\": [\n",
    "        {\"name\": field.name, \"type\": str(field.type) if str(field.type) != 'bool' else 'bool_'} for field in schema\n",
    "    ]\n",
    "}\n",
    "\n",
    "# Define the payload\n",
    "data = {\n",
    "    \"dataset\": \"ucsd_pick_and_place_dataset_converted_externally_to_rlds\",\n",
    "    \"uri\": \"/Users/haoweichung/Development/CMU/Spring2024/FogROS2-RTX/FogX-Store/_datasets/dataset_db\",\n",
    "    \"fields\" : json.dumps(fields_dict)\n",
    "}\n",
    "\n",
    "# Send the POST request\n",
    "response = requests.post(url, json=data)\n",
    "\n",
    "# Print the response\n",
    "print(response.status_code)\n",
    "print(response.json())\n"
   ]
  },
  {
   "cell_type": "code",
   "execution_count": 36,
   "id": "c6b58aa7-4f14-4ec5-94e9-b55bc7db0ee5",
   "metadata": {},
   "outputs": [
    {
     "name": "stdout",
     "output_type": "stream",
     "text": [
      "200\n",
      "{'message': 'Dataset written successfully'}\n"
     ]
    }
   ],
   "source": [
    "import requests\n",
    "\n",
    "# Define the API URL\n",
    "url = \"http://127.0.0.1:5000/write\"\n",
    "\n",
    "# Define the payload\n",
    "data = {\n",
    "    \"ds_path\": \"gs://gresearch/robotics/ucsd_pick_and_place_dataset_converted_externally_to_rlds/0.1.0\",\n",
    "    \"dataset\" : \"ucsd_pick_and_place_dataset_converted_externally_to_rlds\",\n",
    "    \"uri\": \"/Users/haoweichung/Development/CMU/Spring2024/FogROS2-RTX/FogX-Store/_datasets/dataset_db\"\n",
    "}\n",
    "\n",
    "# Send the POST request\n",
    "response = requests.post(url, json=data)\n",
    "\n",
    "# Print the response\n",
    "print(response.status_code)\n",
    "print(response.json())\n"
   ]
  },
  {
   "cell_type": "code",
   "execution_count": 9,
   "id": "d2d04c29-f992-4ca1-aa9a-441ee14303d4",
   "metadata": {},
   "outputs": [],
   "source": [
    "import lancedb\n",
    "uri = \"/Users/haoweichung/Development/CMU/Spring2024/FogROS2-RTX/FogX-Store/_datasets/dataset_db\"\n",
    "db = lancedb.connect(uri)\n",
    "tbl = db.open_table(\"ucsd_pick_and_place_dataset_converted_externally_to_rlds\")"
   ]
  },
  {
   "cell_type": "code",
   "execution_count": 13,
   "id": "36201831-77c2-4aec-a133-11f80f609355",
   "metadata": {},
   "outputs": [
    {
     "data": {
      "text/plain": [
       "pyarrow.Table\n",
       "disclaimer: string\n",
       "file_path: string\n",
       "n_transitions: int32\n",
       "success: bool\n",
       "success_labeled_by: string\n",
       "----\n",
       "disclaimer: []\n",
       "file_path: []\n",
       "n_transitions: []\n",
       "success: []\n",
       "success_labeled_by: []"
      ]
     },
     "execution_count": 13,
     "metadata": {},
     "output_type": "execute_result"
    }
   ],
   "source": [
    "tbl.to_arrow()"
   ]
  },
  {
   "cell_type": "code",
   "execution_count": 7,
   "id": "218d56f5-3f18-4186-b0dc-14c9a8403c63",
   "metadata": {},
   "outputs": [],
   "source": [
    "result = (\n",
    "    tbl.search()\n",
    "    .where(\"success = true\", prefilter=True)\n",
    "    .to_arrow()\n",
    ")"
   ]
  },
  {
   "cell_type": "code",
   "execution_count": 8,
   "id": "12fd3d30-678f-4152-ad1f-7ca3c86257d5",
   "metadata": {},
   "outputs": [
    {
     "data": {
      "text/plain": [
       "pyarrow.Table\n",
       "disclaimer: string\n",
       "file_path: string\n",
       "n_transitions: int32\n",
       "success: bool\n",
       "success_labeled_by: string\n",
       "----\n",
       "disclaimer: []\n",
       "file_path: []\n",
       "n_transitions: []\n",
       "success: []\n",
       "success_labeled_by: []"
      ]
     },
     "execution_count": 8,
     "metadata": {},
     "output_type": "execute_result"
    }
   ],
   "source": [
    "result"
   ]
  },
  {
   "cell_type": "code",
   "execution_count": null,
   "id": "fbca664f-3e44-495d-ab72-da29cf7f9917",
   "metadata": {},
   "outputs": [],
   "source": []
  }
 ],
 "metadata": {
  "kernelspec": {
   "display_name": "Python 3 (ipykernel)",
   "language": "python",
   "name": "python3"
  },
  "language_info": {
   "codemirror_mode": {
    "name": "ipython",
    "version": 3
   },
   "file_extension": ".py",
   "mimetype": "text/x-python",
   "name": "python",
   "nbconvert_exporter": "python",
   "pygments_lexer": "ipython3",
   "version": "3.11.5"
  }
 },
 "nbformat": 4,
 "nbformat_minor": 5
}
