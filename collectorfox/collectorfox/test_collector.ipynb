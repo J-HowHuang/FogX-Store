{
 "cells": [
  {
   "cell_type": "code",
   "execution_count": 10,
   "id": "779bee76-6317-4dd7-b897-cb18e7b2ee99",
   "metadata": {},
   "outputs": [],
   "source": [
    "import requests\n",
    "import json\n",
    "import pyarrow as pa\n",
    "import base64"
   ]
  },
  {
   "cell_type": "code",
   "execution_count": 19,
   "id": "17b778d4-dfab-4926-9eeb-920cb68b5909",
   "metadata": {},
   "outputs": [
    {
     "name": "stdout",
     "output_type": "stream",
     "text": [
      "200\n",
      "{'message': 'Database created successfully'}\n"
     ]
    }
   ],
   "source": [
    "\n",
    "\n",
    "# Define the API URL\n",
    "url = \"http://127.0.0.1:5000/create\"\n",
    "schema = pa.schema([\n",
    "    pa.field(\"disclaimer\", pa.string()),\n",
    "    pa.field(\"file_path\", pa.string()),\n",
    "    pa.field(\"n_transitions\", pa.int32()),\n",
    "    pa.field(\"success\", pa.bool_()),  # Corrected boolean field\n",
    "    pa.field(\"success_labeled_by\", pa.string())\n",
    "])\n",
    "\n",
    "serialized_schema = schema.serialize().to_pybytes()\n",
    "encoded_schema = base64.b64encode(serialized_schema).decode('utf-8')\n",
    "\n",
    "# Define the payload\n",
    "data = {\n",
    "    \"dataset\": \"ucsd_pick_and_place_dataset_converted_externally_to_rlds\", # create a dataset table with this name\n",
    "    \"uri\": \"/Users/haoweichung/Development/CMU/Spring2024/FogROS2-RTX/FogX-Store/_datasets/dataset_db\", # load lancedb from this uri\n",
    "    \"schema\" : encoded_schema # user defined data schema\n",
    "}\n",
    "\n",
    "# Send the POST request\n",
    "response = requests.post(url, json=data)\n",
    "\n",
    "# Print the response\n",
    "print(response.status_code)\n",
    "print(response.json())\n"
   ]
  },
  {
   "cell_type": "code",
   "execution_count": 20,
   "id": "c6b58aa7-4f14-4ec5-94e9-b55bc7db0ee5",
   "metadata": {},
   "outputs": [
    {
     "name": "stdout",
     "output_type": "stream",
     "text": [
      "200\n",
      "{'message': 'Dataset written successfully'}\n"
     ]
    }
   ],
   "source": [
    "import requests\n",
    "\n",
    "# Define the API URL\n",
    "url = \"http://127.0.0.1:5000/write\"\n",
    "\n",
    "# Define the payload\n",
    "data = {\n",
    "    \"ds_path\": \"gs://gresearch/robotics/ucsd_pick_and_place_dataset_converted_externally_to_rlds/0.1.0\", # local or remote rlds dataset location\n",
    "    \"dataset\" : \"ucsd_pick_and_place_dataset_converted_externally_to_rlds\", # The dataset to append new data\n",
    "    \"uri\": \"/Users/haoweichung/Development/CMU/Spring2024/FogROS2-RTX/FogX-Store/_datasets/dataset_db\" # lancedb uri\n",
    "}\n",
    "\n",
    "# Send the POST request\n",
    "response = requests.post(url, json=data)\n",
    "\n",
    "# Print the response\n",
    "print(response.status_code)\n",
    "print(response.json())\n"
   ]
  },
  {
   "cell_type": "markdown",
   "id": "76819c54-ec02-472e-a795-344626de4cd5",
   "metadata": {},
   "source": [
    "# Let's read some data from the database"
   ]
  },
  {
   "cell_type": "code",
   "execution_count": 21,
   "id": "d2d04c29-f992-4ca1-aa9a-441ee14303d4",
   "metadata": {},
   "outputs": [],
   "source": [
    "import lancedb\n",
    "uri = \"/Users/haoweichung/Development/CMU/Spring2024/FogROS2-RTX/FogX-Store/_datasets/dataset_db\"\n",
    "db = lancedb.connect(uri)\n",
    "tbl = db.open_table(\"ucsd_pick_and_place_dataset_converted_externally_to_rlds\")"
   ]
  },
  {
   "cell_type": "code",
   "execution_count": 22,
   "id": "36201831-77c2-4aec-a133-11f80f609355",
   "metadata": {},
   "outputs": [
    {
     "data": {
      "text/plain": [
       "pyarrow.Table\n",
       "disclaimer: string\n",
       "file_path: string\n",
       "n_transitions: int32\n",
       "success: bool\n",
       "success_labeled_by: string\n",
       "----\n",
       "disclaimer: [[\"b'reward is noisy for this dataset partition'\"],[\"b'none'\"],...,[\"b'reward is noisy for this dataset partition'\"],[\"b'reward is noisy for this dataset partition'\"]]\n",
       "file_path: [[\"b'data/train/tabletop_uncurated/209.p'\"],[\"b'data/train/tabletop_base/515.p'\"],...,[\"b'data/train/tabletop_uncurated/533.p'\"],[\"b'data/train/tabletop_uncurated/76.p'\"]]\n",
       "n_transitions: [[50],[50],...,[50],[50]]\n",
       "success: [[true],[false],...,[true],[true]]\n",
       "success_labeled_by: [[\"b'classifier'\"],[\"b'classifier'\"],...,[\"b'classifier'\"],[\"b'classifier'\"]]"
      ]
     },
     "execution_count": 22,
     "metadata": {},
     "output_type": "execute_result"
    }
   ],
   "source": [
    "tbl.to_arrow()"
   ]
  },
  {
   "cell_type": "markdown",
   "id": "550cfcfb-7c80-47c3-995b-9e124cd7e280",
   "metadata": {},
   "source": [
    "# Select all the data with success is true"
   ]
  },
  {
   "cell_type": "code",
   "execution_count": 23,
   "id": "218d56f5-3f18-4186-b0dc-14c9a8403c63",
   "metadata": {},
   "outputs": [],
   "source": [
    "result = (\n",
    "    tbl.search()\n",
    "    .where(\"success = true\", prefilter=True)\n",
    "    .to_arrow()\n",
    ")"
   ]
  },
  {
   "cell_type": "code",
   "execution_count": 24,
   "id": "12fd3d30-678f-4152-ad1f-7ca3c86257d5",
   "metadata": {},
   "outputs": [
    {
     "data": {
      "text/plain": [
       "pyarrow.Table\n",
       "disclaimer: string\n",
       "file_path: string\n",
       "n_transitions: int32\n",
       "success: bool\n",
       "success_labeled_by: string\n",
       "----\n",
       "disclaimer: [[\"b'reward is noisy for this dataset partition'\"],[\"b'none'\"],...,[\"b'reward is noisy for this dataset partition'\"],[\"b'reward is noisy for this dataset partition'\"]]\n",
       "file_path: [[\"b'data/train/tabletop_uncurated/209.p'\"],[\"b'data/train/tabletop_base/157.p'\"],...,[\"b'data/train/tabletop_uncurated/533.p'\"],[\"b'data/train/tabletop_uncurated/76.p'\"]]\n",
       "n_transitions: [[50],[50],...,[50],[50]]\n",
       "success: [[true],[true],...,[true],[true]]\n",
       "success_labeled_by: [[\"b'classifier'\"],[\"b'classifier'\"],...,[\"b'classifier'\"],[\"b'classifier'\"]]"
      ]
     },
     "execution_count": 24,
     "metadata": {},
     "output_type": "execute_result"
    }
   ],
   "source": [
    "result"
   ]
  }
 ],
 "metadata": {
  "kernelspec": {
   "display_name": "Python 3 (ipykernel)",
   "language": "python",
   "name": "python3"
  },
  "language_info": {
   "codemirror_mode": {
    "name": "ipython",
    "version": 3
   },
   "file_extension": ".py",
   "mimetype": "text/x-python",
   "name": "python",
   "nbconvert_exporter": "python",
   "pygments_lexer": "ipython3",
   "version": "3.11.5"
  }
 },
 "nbformat": 4,
 "nbformat_minor": 5
}
