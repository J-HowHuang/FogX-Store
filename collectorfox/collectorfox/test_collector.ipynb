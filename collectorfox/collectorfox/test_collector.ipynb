{
 "cells": [
  {
   "cell_type": "code",
   "execution_count": 10,
   "id": "779bee76-6317-4dd7-b897-cb18e7b2ee99",
   "metadata": {},
   "outputs": [
    {
     "name": "stdout",
     "output_type": "stream",
     "text": [
      "200\n",
      "{'message': 'Dataset written successfully'}\n"
     ]
    }
   ],
   "source": [
    "import requests\n",
    "\n",
    "# Define the API URL\n",
    "url = \"http://127.0.0.1:5000/write\"\n",
    "\n",
    "# Define the payload\n",
    "data = {\n",
    "    \"ds_path\": \"gs://gresearch/robotics/ucsd_pick_and_place_dataset_converted_externally_to_rlds/0.1.0\",\n",
    "    \"uri\": \"ucsd_pick_and_place_dataset_converted_externally_to_rlds\"\n",
    "}\n",
    "\n",
    "# Send the POST request\n",
    "response = requests.post(url, json=data)\n",
    "\n",
    "# Print the response\n",
    "print(response.status_code)\n",
    "print(response.json())\n"
   ]
  },
  {
   "cell_type": "code",
   "execution_count": 12,
   "id": "d2d04c29-f992-4ca1-aa9a-441ee14303d4",
   "metadata": {},
   "outputs": [],
   "source": [
    "import lance\n",
    "\n",
    "dataset = lance.dataset(\"ucsd_pick_and_place_dataset_converted_externally_to_rlds\")"
   ]
  },
  {
   "cell_type": "code",
   "execution_count": 15,
   "id": "218d56f5-3f18-4186-b0dc-14c9a8403c63",
   "metadata": {},
   "outputs": [],
   "source": [
    "table = dataset.to_table()"
   ]
  }
 ],
 "metadata": {
  "kernelspec": {
   "display_name": "Python 3 (ipykernel)",
   "language": "python",
   "name": "python3"
  },
  "language_info": {
   "codemirror_mode": {
    "name": "ipython",
    "version": 3
   },
   "file_extension": ".py",
   "mimetype": "text/x-python",
   "name": "python",
   "nbconvert_exporter": "python",
   "pygments_lexer": "ipython3",
   "version": "3.11.5"
  }
 },
 "nbformat": 4,
 "nbformat_minor": 5
}
